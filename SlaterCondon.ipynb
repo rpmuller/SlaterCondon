{
  "cells": [
    {
      "cell_type": "markdown",
      "source": [
        "# Slater Condon tools\n",
        "Tools to evaluate the [Slater Condon rules](https://en.wikipedia.org/wiki/Slater%E2%80%93Condon_rules) for quantum determinants and multideterminants.\n",
        "\n",
        "Tasks\n",
        "- ~~etwo function for determinants~~\n",
        "- ~~eone/etwo functions for multideterminants~~\n",
        "- cross terms\n",
        "- Correct energies for \n",
        "  - ~~cs singlet~~\n",
        "  - ~~triplet~~\n",
        "  - oss,\n",
        "  - gvb\n",
        "  - CISD\n",
        "- Align function for determinants\n",
        "  - Don't forget spin\n",
        "- ~~Build simple closed/open determinants e.g. det(\"aabbccd\") with alternating spins~~  "
      ],
      "metadata": {
        "nteract": {
          "transient": {
            "deleting": false
          }
        },
        "id": "30d5623f-4be1-4165-aa22-60c83d191883"
      },
      "id": "30d5623f-4be1-4165-aa22-60c83d191883"
    },
    {
      "cell_type": "code",
      "source": [
        "# Imports and utilities:\n",
        "import copy\n",
        "import math\n",
        "import itertools\n",
        "from collections import defaultdict\n",
        "\n",
        "def isclose(a,b,tol=1e-5): return abs(a-b)<tol\n",
        "def pairs(L): \n",
        "  \"\"\"\n",
        "  Loops over pairs of items in a list:\n",
        "  >>> list(pairs(\"ABC\"))\n",
        "  [('A', 'B'), ('A', 'C'), ('B', 'C')]\n",
        "  \"\"\"\n",
        "  return itertools.combinations(L,2)\n"
      ],
      "outputs": [],
      "execution_count": null,
      "metadata": {
        "execution": {
          "iopub.execute_input": "2022-02-01T03:21:02.727Z",
          "iopub.status.busy": "2022-02-01T03:21:02.723Z",
          "iopub.status.idle": "2022-02-01T03:21:02.731Z",
          "shell.execute_reply": "2022-02-01T03:21:02.740Z"
        },
        "nteract": {
          "transient": {
            "deleting": false
          }
        },
        "tags": [],
        "id": "0a95aa9c-fb8c-4dd7-8c0a-91eb1ec0b35e"
      },
      "id": "0a95aa9c-fb8c-4dd7-8c0a-91eb1ec0b35e"
    },
    {
      "cell_type": "code",
      "source": [
        "class Fermion:\n",
        "  \"\"\"\n",
        "  Create a simple object for fermions.\n",
        "  >>> Fermion(\"a\",\"up\")\n",
        "  a\n",
        "  \n",
        "  Equality is defined for Fermions:\n",
        "  >>> Fermion(\"a\",\"up\")==Fermion(\"a\",\"up\")\n",
        "  True\n",
        "\n",
        "  You can also use integers as labels:\n",
        "  >>> Fermion(1,\"down\")\n",
        "  1̅\n",
        "  \"\"\"\n",
        "  def __init__(self,label,spin):\n",
        "    self.label = label\n",
        "    self.spin = spin\n",
        "    return\n",
        "  \n",
        "  def tostring(self): return ferm(self.label,self.spin)\n",
        "  def __str__(self): return self.tostring()\n",
        "  def __repr__(self): return self.tostring()\n",
        "  def tuple(self): return self.label,self.spin\n",
        "  def __hash__(self): return hash(self.tuple())\n",
        "  def __eq__(self,other): return self.tuple()==other.tuple()\n",
        "  def __lt__(self,other): return self.tuple()<other.tuple()\n",
        "\n",
        "def ferm(label,spin,stype=\"bar\"):\n",
        "  \"\"\"\n",
        "  Label fermion spins with up/down arrows:\n",
        "  >>> ferm(\"a\",\"up\",stype=\"arrow\")\n",
        "  'a↑'\n",
        "  >>> ferm(\"a\",\"down\",stype=\"arrow\")\n",
        "  'a↓'\n",
        "  >>> ferm(\"a\",\"up\",stype=\"bar\")\n",
        "  'a'\n",
        "  >>> ferm(\"a\",\"down\",stype=\"bar\")\n",
        "  'a̅'\n",
        "  >>> ferm(\"a\",\"down\")\n",
        "  'a̅'\n",
        "  \"\"\"\n",
        "  spins = dict(up=\"\",down=\"\\u0305\") if stype==\"bar\" else dict(up=\"↑\",down=\"↓\")\n",
        "  return \"%s%s\" % (label,spins[spin])\n"
      ],
      "outputs": [],
      "execution_count": null,
      "metadata": {
        "collapsed": true,
        "execution": {
          "iopub.execute_input": "2022-02-01T03:21:39.824Z",
          "iopub.status.busy": "2022-02-01T03:21:39.821Z",
          "iopub.status.idle": "2022-02-01T03:21:39.829Z",
          "shell.execute_reply": "2022-02-01T03:21:39.832Z"
        },
        "jupyter": {
          "outputs_hidden": true,
          "source_hidden": false
        },
        "nteract": {
          "transient": {
            "deleting": false
          }
        },
        "id": "9a02adfa-041f-4b75-9313-533d51f431ec"
      },
      "id": "9a02adfa-041f-4b75-9313-533d51f431ec"
    },
    {
      "cell_type": "code",
      "source": [
        "class Det:\n",
        "  \"\"\"\n",
        "  Create a simple object for antisymmetric slater determinants of fermions:\n",
        "  >>> Det(Fermion(\"a\",\"up\"),Fermion(\"a\",\"down\"))\n",
        "  |aa̅>\n",
        "  >>> Det(Fermion(\"a\",\"up\"),Fermion(\"a\",\"up\")).zero()\n",
        "  True\n",
        "  >>> Det(Fermion(\"a\",\"up\"),Fermion(\"a\",\"down\")).eone()\n",
        "  2haa\n",
        "\n",
        "  Equality works:\n",
        "  >>> Det(Fermion(\"a\",\"up\"),Fermion(\"a\",\"down\")) == det2(2)\n",
        "  True\n",
        "\n",
        "  There's a helper function `det` to construct simple determinants.\n",
        "  >>> det(\"aa\").etwo()\n",
        "  Jaa\n",
        "  >>> det(\"aabbc\").etwo()\n",
        "  Jaa + 4Jab - 2Kab + Jbb + 2Jac - Kac + 2Jbc - Kbc\n",
        "  >>> det(\"aabb\").energy()\n",
        "  2haa + 2hbb + Jaa + 4Jab - 2Kab + Jbb\n",
        "\n",
        "  Can also use the `det2` helper function, which takes nel, mult, and\n",
        "  has flexible labels:\n",
        "  >>> det2(2,mult=3).energy()\n",
        "  haa + hbb + Jab - Kab\n",
        "  >>> det2(2,mult=3,labeltype=\"numbers\").energy()\n",
        "  h11 + h22 + J12 - K12\n",
        "  \"\"\"\n",
        "  def __init__(self,*fermions):\n",
        "    self.fermions = fermions\n",
        "    return\n",
        "  \n",
        "  def __hash__(self): return hash(self.fermions)\n",
        "  def __eq__(self,other): return self.fermions==other.fermions\n",
        "  def __lt__(self,other): return self.fermions<other.fermions\n",
        "  def tostring(self): return \"\".join([\"|\"]+[str(f) for f in self.fermions]+[\">\"])\n",
        "  def __repr__(self): return self.tostring()\n",
        "  def zero(self): return (len(self.fermions) == 0) or (len(self.fermions) > len(set(self.fermions)))\n",
        "  \n",
        "  def eone(self): return EnergyExpression(*[h(f.label) for f in self.fermions])\n",
        "\n",
        "  def etwo(self):\n",
        "    E = EnergyExpression()\n",
        "    nf = len(self.fermions)\n",
        "    for i in range(nf):\n",
        "      fi = self.fermions[i]\n",
        "      for j in range(i+1):\n",
        "        fj = self.fermions[j]\n",
        "        li,lj = (fi.label,fj.label) if fi<fj else (fj.label,fi.label)\n",
        "        if fi.spin == fj.spin:\n",
        "          if li != lj:\n",
        "            E.add(J(li,lj))\n",
        "            E.add(K(li,lj),-1)\n",
        "        else:\n",
        "          E.add(J(li,lj))\n",
        "    return E\n",
        "  \n",
        "  def energy(self): return self.eone() + self.etwo()\n",
        "\n",
        "def det(labels): \n",
        "  \"\"\"\n",
        "  Convenience function to construct a determinant with alternating up/down spins.\n",
        "  >>> det(\"aabbccd\")\n",
        "  |aa̅bb̅cc̅d>\n",
        "  \"\"\"\n",
        "  return Det(*[Fermion(l,s) for (l,s) in zip(labels,itertools.cycle([\"up\",\"down\"]))])\n",
        "\n",
        "def det2(nel,mult=0,labeltype=\"letters\"):\n",
        "  \"\"\"\n",
        "  Alternate, more flexible way of constructing determinants. \n",
        "  Needs a better name.\n",
        "  >>> det2(2)\n",
        "  |aa̅>\n",
        "  >>> det2(5,labeltype=\"numbers\")\n",
        "  |11̅22̅3>\n",
        "  >>> det2(4,mult=3)\n",
        "  |aa̅bc>\n",
        "  \"\"\"\n",
        "  from string import ascii_letters\n",
        "  labels = ascii_letters if labeltype == \"letters\" else list(range(1,200))\n",
        "  if mult==0:\n",
        "    mult = 1 if nel%2==0 else 2\n",
        "\n",
        "  nopen = mult-1\n",
        "  nclosed,ntest = divmod(nel-nopen,2)\n",
        "  assert ntest == 0\n",
        "  #nalpha,nbeta = nclosed+nopen,nclosed # if uhf is desired\n",
        "  fermions = []\n",
        "  for orb in range(nclosed):\n",
        "    fermions.append(Fermion(labels[orb],\"up\"))\n",
        "    fermions.append(Fermion(labels[orb],\"down\"))\n",
        "  for orb in range(nclosed,nclosed+nopen):\n",
        "   fermions.append(Fermion(labels[orb],\"up\"))\n",
        "  return Det(*fermions)\n",
        "\n",
        "def ndiff(d1,d2): \n",
        "  \"\"\"\n",
        "  Determine the number of fermions differing in two determinants:\n",
        "  >>> ndiff(det(\"aab\"),det(\"aac\"))\n",
        "  1\n",
        "  \"\"\"\n",
        "  return len(set(d1.fermions).difference(set(d2.fermions)))"
      ],
      "outputs": [],
      "execution_count": null,
      "metadata": {
        "collapsed": true,
        "execution": {
          "iopub.execute_input": "2022-02-01T03:23:37.890Z",
          "iopub.status.busy": "2022-02-01T03:23:37.886Z",
          "iopub.status.idle": "2022-02-01T03:23:37.898Z",
          "shell.execute_reply": "2022-02-01T03:23:37.901Z"
        },
        "jupyter": {
          "outputs_hidden": true,
          "source_hidden": false
        },
        "nteract": {
          "transient": {
            "deleting": false
          }
        },
        "id": "0376833b-83f3-4e4e-82ab-3a05b66b98aa"
      },
      "id": "0376833b-83f3-4e4e-82ab-3a05b66b98aa"
    },
    {
      "cell_type": "code",
      "source": [
        "class ExpressionDict:\n",
        "  \"\"\"\n",
        "  Use a default dictionary to collect terms and coefficients\n",
        "  to mock up symbolic like term evaluation.\n",
        "\n",
        "  >>> ED = ExpressionDict(\"A\",\"B\")\n",
        "  >>> ED.add(\"C\")\n",
        "  >>> ED.add(\"D\",-1)\n",
        "  >>> ED.scale(2)\n",
        "  >>> ED\n",
        "  2A + 2B + 2C - 2D\n",
        "  \"\"\"\n",
        "  def __init__(self,*terms):\n",
        "    self.terms = defaultdict(float)\n",
        "    for term in terms:\n",
        "      self.add(term)\n",
        "    return\n",
        "\n",
        "  def add(self,term,coef=1): self.terms[term] += coef  \n",
        "\n",
        "  def add_scaled_terms(self,other,scale=1):\n",
        "    for term,coef in other.terms.items():\n",
        "      self.terms[term] += coef*scale\n",
        "    return\n",
        "    \n",
        "  def scale(self,scale):\n",
        "    for d in self.terms:\n",
        "      self.terms[d] *= scale\n",
        "    return\n",
        "\n",
        "  def __repr__(self): return self.tostring()\n",
        "\n",
        "  def __add__(self,other):\n",
        "    E = copy.deepcopy(self)\n",
        "    E.add_scaled_terms(other)\n",
        "    return E\n",
        "    \n",
        "  def __iadd__(self,other): self.add_scaled_terms(other)\n",
        "\n",
        "  def tostring(self):\n",
        "    text = []\n",
        "    for i,(d,c) in enumerate(self.terms.items()):\n",
        "      if i>0 and c<0:\n",
        "        text.append(\" - \")\n",
        "        text.append(ftos(-c))\n",
        "      else:\n",
        "        if i>0: text.append(\" + \")\n",
        "        text.append(ftos(c))\n",
        "      text.append(str(d))\n",
        "    return \"\".join(text)\n",
        "\n",
        "def ftos(a,digs=5):\n",
        "  \"\"\"\n",
        "  Helper function to display coefficients properly.\n",
        "  \n",
        "  Don't display coefficients of 1 (ie show 'J' rather than '1.0J')\n",
        "  >>> ftos(1.0)\n",
        "  ''\n",
        "\n",
        "  If coefficients are close to an integer, show an integer: \n",
        "  >>> ftos(2.0)\n",
        "  '2'\n",
        "\n",
        "  Otherwise, round numbers to `digs` digits:\n",
        "  >>> ftos(math.sqrt(2))\n",
        "  '1.41421'\n",
        "  \"\"\"\n",
        "  b = round(a,digs)\n",
        "  bi,bf = divmod(b,1)\n",
        "  if isclose(b,1): return \"\"   # Don't return 1's\n",
        "  if isclose(bf,0): return str(int(bi)) # Return ints as ints\n",
        "  return str(b) # Otherwise, round"
      ],
      "metadata": {
        "id": "CJ5qf7cMZgdC"
      },
      "id": "CJ5qf7cMZgdC",
      "execution_count": null,
      "outputs": []
    },
    {
      "cell_type": "code",
      "source": [
        "class MultiDet(ExpressionDict):\n",
        "  \"\"\"\n",
        "  Define determinants for multiconfigurational wave functions. Uses \n",
        "  ExpressionDicts to keep track of term coefficients.\n",
        "  \n",
        "  Example: Define an open-shell singlet wave function\n",
        "  >>> oss = MultiDet(det(\"aabc\"),det(\"aacb\"))\n",
        "  >>> oss\n",
        "  |aa̅bc̅> + |aa̅cb̅>\n",
        "  >>> oss.normalize()\n",
        "  >>> oss\n",
        "  0.70711|aa̅bc̅> + 0.70711|aa̅cb̅>\n",
        "  >>> oss.eone()\n",
        "  2haa + hbb + hcc\n",
        "  >>> oss.etwo()\n",
        "  Jaa + 2Jab - Kab + 2Jac - Kac + Jbc\n",
        "  >>> oss.energy()\n",
        "  2haa + hbb + hcc + Jaa + 2Jab - Kab + 2Jac - Kac + Jbc\n",
        "  \"\"\"\n",
        "  def norm(self): return sum(c*c for d,c in self.terms.items())\n",
        "  def normalize(self): self.scale(1/math.sqrt(self.norm()))\n",
        "  def eone(self):\n",
        "    E = EnergyExpression()\n",
        "    for det in self.terms: E.add_scaled_terms(det.eone(),self.terms[det]**2)\n",
        "    # Add det-det cross-terms here, which are nonzero if dets differ by one fermion \n",
        "    return E\n",
        "\n",
        "  def etwo(self):\n",
        "    E = EnergyExpression()\n",
        "    for det in self.terms: E.add_scaled_terms(det.etwo(),self.terms[det]**2)\n",
        "    # Add det-det cross-terms here\n",
        "    return E\n",
        "  \n",
        "  def energy(self): return self.eone() + self.etwo()\n"
      ],
      "outputs": [],
      "execution_count": null,
      "metadata": {
        "collapsed": true,
        "execution": {
          "iopub.execute_input": "2022-02-01T03:23:38.424Z",
          "iopub.status.busy": "2022-02-01T03:23:38.421Z",
          "iopub.status.idle": "2022-02-01T03:23:38.428Z",
          "shell.execute_reply": "2022-02-01T03:23:38.434Z"
        },
        "jupyter": {
          "outputs_hidden": true,
          "source_hidden": false
        },
        "nteract": {
          "transient": {
            "deleting": false
          }
        },
        "id": "bb2be5d4-8288-4bf5-b985-70e0547c729b"
      },
      "id": "bb2be5d4-8288-4bf5-b985-70e0547c729b"
    },
    {
      "cell_type": "code",
      "source": [
        "class EnergyExpression(ExpressionDict):\n",
        "  \"\"\"\n",
        "  Container to construct and manipulate energy expressions. Uses \n",
        "  ExpressionDicts to keep track of term coefficients.\n",
        "  >>> EnergyExpression(h(1,1),J(1,2),K(1,2))\n",
        "  h11 + J12 + K12\n",
        "  \"\"\"\n",
        "  pass\n",
        "    \n",
        "# Templates for energy terms. Gives a single point to rewrite the notation:\n",
        "def texpression(template):\n",
        "  def f(i,j=False): \n",
        "    return template.format(i, j or i)\n",
        "  return f\n",
        "\n",
        "# or \"h[%s,%s], J[%s,%s], K[%s,%s].\n",
        "# or (ij|kl), <ij||kl>\n",
        "# or latex expressions.\n",
        "h = texpression(\"h{0}{1}\") \n",
        "J = texpression(\"J{0}{1}\")\n",
        "K = texpression(\"K{0}{1}\")\n"
      ],
      "outputs": [],
      "execution_count": null,
      "metadata": {
        "execution": {
          "iopub.execute_input": "2022-02-01T03:23:39.036Z",
          "iopub.status.busy": "2022-02-01T03:23:39.034Z",
          "iopub.status.idle": "2022-02-01T03:23:39.043Z",
          "shell.execute_reply": "2022-02-01T03:23:39.045Z"
        },
        "id": "35e22a4e-94bd-4f8f-9632-5520868cf666"
      },
      "id": "35e22a4e-94bd-4f8f-9632-5520868cf666"
    },
    {
      "cell_type": "code",
      "source": [
        "import doctest; doctest.testmod()"
      ],
      "outputs": [
        {
          "output_type": "execute_result",
          "data": {
            "text/plain": [
              "TestResults(failed=0, attempted=39)"
            ]
          },
          "metadata": {},
          "execution_count": 24
        }
      ],
      "execution_count": null,
      "metadata": {
        "execution": {
          "iopub.execute_input": "2022-02-01T03:23:39.518Z",
          "iopub.status.busy": "2022-02-01T03:23:39.515Z",
          "iopub.status.idle": "2022-02-01T03:23:39.529Z",
          "shell.execute_reply": "2022-02-01T03:23:39.536Z"
        },
        "colab": {
          "base_uri": "https://localhost:8080/"
        },
        "id": "f7025e31-8a9b-4876-b371-8a4d912c2285",
        "outputId": "71573c5d-b5d4-4e15-fd14-c3514f10ab72"
      },
      "id": "f7025e31-8a9b-4876-b371-8a4d912c2285"
    },
    {
      "cell_type": "code",
      "source": [
        ""
      ],
      "metadata": {
        "id": "niGWq2W1Izwm"
      },
      "id": "niGWq2W1Izwm",
      "execution_count": null,
      "outputs": []
    }
  ],
  "metadata": {
    "kernelspec": {
      "display_name": "Python 3 (ipykernel)",
      "language": "python",
      "name": "python3"
    },
    "language_info": {
      "name": "python",
      "version": "3.9.7",
      "mimetype": "text/x-python",
      "codemirror_mode": {
        "name": "ipython",
        "version": 3
      },
      "pygments_lexer": "ipython3",
      "nbconvert_exporter": "python",
      "file_extension": ".py"
    },
    "nteract": {
      "version": "0.28.0"
    },
    "colab": {
      "name": "SlaterCondon.ipynb",
      "provenance": [],
      "collapsed_sections": []
    }
  },
  "nbformat": 4,
  "nbformat_minor": 5
}